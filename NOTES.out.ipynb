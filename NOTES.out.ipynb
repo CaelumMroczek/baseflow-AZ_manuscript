{
 "cells": [
  {
   "cell_type": "markdown",
   "metadata": {},
   "source": [
    "# \n",
    "\n",
    "## A Quarto Manuscript Template\n",
    "\n",
    "This is a template repo for generating a manuscript from Quarto that accompanies the tutorial at: [Quarto Manuscripts: RStudio](https://quarto.org/docs/manuscripts/authoring/rstudio.html)"
   ],
   "id": "f7505684-434e-4eaa-9eaf-6e7ee054e3be"
  }
 ],
 "nbformat": 4,
 "nbformat_minor": 5,
 "metadata": {}
}
